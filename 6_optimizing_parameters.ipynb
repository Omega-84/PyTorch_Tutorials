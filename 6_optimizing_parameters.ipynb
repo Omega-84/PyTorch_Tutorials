{
 "cells": [
  {
   "cell_type": "code",
   "execution_count": 1,
   "metadata": {},
   "outputs": [],
   "source": [
    "import torch\n",
    "import torch.nn as nn\n",
    "from torch.utils.data import DataLoader\n",
    "from torchvision import datasets\n",
    "from torchvision.transforms import ToTensor"
   ]
  },
  {
   "cell_type": "code",
   "execution_count": 2,
   "metadata": {},
   "outputs": [],
   "source": [
    "training_dataset = datasets.FashionMNIST(root='mnist',download=False,train=True,transform=ToTensor())\n",
    "testing_dataset = datasets.FashionMNIST(root='mnist',download=False,train=False,transform=ToTensor())"
   ]
  },
  {
   "cell_type": "code",
   "execution_count": 3,
   "metadata": {},
   "outputs": [],
   "source": [
    "batch_size = 64"
   ]
  },
  {
   "cell_type": "code",
   "execution_count": 4,
   "metadata": {},
   "outputs": [],
   "source": [
    "train_loader = DataLoader(training_dataset,batch_size=batch_size,shuffle=True)\n",
    "test_loader = DataLoader(testing_dataset,batch_size=batch_size,shuffle=True)"
   ]
  },
  {
   "cell_type": "code",
   "execution_count": 5,
   "metadata": {},
   "outputs": [],
   "source": [
    "class NeuralNetwork(nn.Module):\n",
    "    def __init__(self):\n",
    "        super().__init__()\n",
    "        self.flatten = nn.Flatten()\n",
    "        self.linear_relu_stack = nn.Sequential(nn.Linear(28*28,512),\n",
    "                                               nn.ReLU(),\n",
    "                                               nn.Linear(512,512),\n",
    "                                               nn.ReLU(),\n",
    "                                               nn.Linear(512,10))\n",
    "    def forward(self,x):\n",
    "        x = self.flatten(x)\n",
    "        logits = self.linear_relu_stack(x)\n",
    "        return logits"
   ]
  },
  {
   "cell_type": "code",
   "execution_count": 6,
   "metadata": {},
   "outputs": [],
   "source": [
    "model = NeuralNetwork()"
   ]
  },
  {
   "cell_type": "markdown",
   "metadata": {},
   "source": [
    "## Tuning hyperparameters"
   ]
  },
  {
   "cell_type": "code",
   "execution_count": 7,
   "metadata": {},
   "outputs": [],
   "source": [
    "learning_rate = 1e-3\n",
    "epochs = 5"
   ]
  },
  {
   "cell_type": "code",
   "execution_count": 8,
   "metadata": {},
   "outputs": [],
   "source": [
    "loss_fn = nn.CrossEntropyLoss()"
   ]
  },
  {
   "cell_type": "code",
   "execution_count": 9,
   "metadata": {},
   "outputs": [],
   "source": [
    "optimizer = torch.optim.Adam(model.parameters(),lr=learning_rate)"
   ]
  },
  {
   "cell_type": "code",
   "execution_count": 10,
   "metadata": {},
   "outputs": [],
   "source": [
    "def train_loop(dataloader,model,optimizer,loss_fn):\n",
    "    size = len(dataloader.dataset)\n",
    "    model.train()\n",
    "    for count,(X,y) in enumerate(dataloader):\n",
    "        pred = model(X)\n",
    "        loss = loss_fn(pred,y)\n",
    "\n",
    "        loss.backward()\n",
    "        optimizer.step()\n",
    "        optimizer.zero_grad()\n",
    "\n",
    "        if count % 100 == 0:\n",
    "            print(f\"Loss - {loss.item()}, {count * batch_size + len(X)} / {size}\")"
   ]
  },
  {
   "cell_type": "code",
   "execution_count": 11,
   "metadata": {},
   "outputs": [],
   "source": [
    "def test_loop(dataloader,model,loss_fn):\n",
    "    model.eval()\n",
    "    size = len(dataloader.dataset)\n",
    "    num_batches = len(dataloader)\n",
    "    test_loss,correct = 0,0\n",
    "\n",
    "    with torch.no_grad():\n",
    "        for X,y in dataloader:\n",
    "            pred = model(X)\n",
    "            test_loss += loss_fn(pred,y).item()\n",
    "            correct += (pred.argmax(1)==y).type(torch.float).sum().item()\n",
    "    test_loss /= num_batches\n",
    "    correct /= size\n",
    "    print(f\"Accuracy - {100*correct}, loss - {test_loss}\")"
   ]
  },
  {
   "cell_type": "code",
   "execution_count": 12,
   "metadata": {},
   "outputs": [
    {
     "name": "stdout",
     "output_type": "stream",
     "text": [
      "Loss - 2.301722526550293, 64 / 60000\n",
      "Loss - 0.6619126200675964, 6464 / 60000\n",
      "Loss - 0.4067089855670929, 12864 / 60000\n",
      "Loss - 0.5594701170921326, 19264 / 60000\n",
      "Loss - 0.6906286478042603, 25664 / 60000\n",
      "Loss - 0.3670739531517029, 32064 / 60000\n",
      "Loss - 0.40212056040763855, 38464 / 60000\n",
      "Loss - 0.4724532663822174, 44864 / 60000\n",
      "Loss - 0.44237464666366577, 51264 / 60000\n",
      "Loss - 0.5012404322624207, 57664 / 60000\n",
      "Accuracy - 84.11999999999999, loss - 0.4287745150601029\n",
      "Loss - 0.35242873430252075, 64 / 60000\n",
      "Loss - 0.38580578565597534, 6464 / 60000\n",
      "Loss - 0.41649654507637024, 12864 / 60000\n",
      "Loss - 0.36890920996665955, 19264 / 60000\n",
      "Loss - 0.32571202516555786, 25664 / 60000\n",
      "Loss - 0.31311240792274475, 32064 / 60000\n",
      "Loss - 0.3588408827781677, 38464 / 60000\n",
      "Loss - 0.5785338282585144, 44864 / 60000\n",
      "Loss - 0.2744130492210388, 51264 / 60000\n",
      "Loss - 0.4797165095806122, 57664 / 60000\n",
      "Accuracy - 85.86, loss - 0.3774876029817921\n",
      "Loss - 0.3996089696884155, 64 / 60000\n",
      "Loss - 0.24483925104141235, 6464 / 60000\n",
      "Loss - 0.3395404517650604, 12864 / 60000\n",
      "Loss - 0.26549869775772095, 19264 / 60000\n",
      "Loss - 0.4639829993247986, 25664 / 60000\n",
      "Loss - 0.30331334471702576, 32064 / 60000\n",
      "Loss - 0.3257189691066742, 38464 / 60000\n",
      "Loss - 0.28369274735450745, 44864 / 60000\n",
      "Loss - 0.432858407497406, 51264 / 60000\n",
      "Loss - 0.46019768714904785, 57664 / 60000\n",
      "Accuracy - 86.24000000000001, loss - 0.38148033694856487\n",
      "Loss - 0.47209110856056213, 64 / 60000\n",
      "Loss - 0.20445950329303741, 6464 / 60000\n",
      "Loss - 0.34362730383872986, 12864 / 60000\n",
      "Loss - 0.3117787539958954, 19264 / 60000\n",
      "Loss - 0.321939080953598, 25664 / 60000\n",
      "Loss - 0.19408874213695526, 32064 / 60000\n",
      "Loss - 0.20539040863513947, 38464 / 60000\n",
      "Loss - 0.3452387750148773, 44864 / 60000\n",
      "Loss - 0.1237751841545105, 51264 / 60000\n",
      "Loss - 0.34045591950416565, 57664 / 60000\n",
      "Accuracy - 88.19, loss - 0.33650754956872597\n",
      "Loss - 0.14335231482982635, 64 / 60000\n",
      "Loss - 0.3130733370780945, 6464 / 60000\n",
      "Loss - 0.3059316575527191, 12864 / 60000\n",
      "Loss - 0.23003311455249786, 19264 / 60000\n",
      "Loss - 0.17710797488689423, 25664 / 60000\n",
      "Loss - 0.33896946907043457, 32064 / 60000\n",
      "Loss - 0.26134735345840454, 38464 / 60000\n",
      "Loss - 0.14746446907520294, 44864 / 60000\n",
      "Loss - 0.3657836318016052, 51264 / 60000\n",
      "Loss - 0.40814095735549927, 57664 / 60000\n",
      "Accuracy - 88.07000000000001, loss - 0.32928869531602617\n",
      "Loss - 0.297813355922699, 64 / 60000\n",
      "Loss - 0.26420822739601135, 6464 / 60000\n",
      "Loss - 0.2519461214542389, 12864 / 60000\n",
      "Loss - 0.21924671530723572, 19264 / 60000\n",
      "Loss - 0.22919298708438873, 25664 / 60000\n",
      "Loss - 0.20854057371616364, 32064 / 60000\n",
      "Loss - 0.2524431049823761, 38464 / 60000\n",
      "Loss - 0.45698282122612, 44864 / 60000\n",
      "Loss - 0.2729831039905548, 51264 / 60000\n",
      "Loss - 0.25153934955596924, 57664 / 60000\n",
      "Accuracy - 88.1, loss - 0.33424191589757896\n",
      "Loss - 0.21916836500167847, 64 / 60000\n",
      "Loss - 0.2896755635738373, 6464 / 60000\n",
      "Loss - 0.1978752166032791, 12864 / 60000\n",
      "Loss - 0.12172883003950119, 19264 / 60000\n",
      "Loss - 0.20698899030685425, 25664 / 60000\n",
      "Loss - 0.32839155197143555, 32064 / 60000\n",
      "Loss - 0.4067773222923279, 38464 / 60000\n",
      "Loss - 0.28891414403915405, 44864 / 60000\n",
      "Loss - 0.379370778799057, 51264 / 60000\n",
      "Loss - 0.2250078171491623, 57664 / 60000\n",
      "Accuracy - 88.46000000000001, loss - 0.3294702247259723\n",
      "Loss - 0.21471256017684937, 64 / 60000\n",
      "Loss - 0.3089654743671417, 6464 / 60000\n",
      "Loss - 0.1668941080570221, 12864 / 60000\n",
      "Loss - 0.2256920337677002, 19264 / 60000\n",
      "Loss - 0.20866787433624268, 25664 / 60000\n",
      "Loss - 0.16855953633785248, 32064 / 60000\n",
      "Loss - 0.2261505126953125, 38464 / 60000\n",
      "Loss - 0.17321939766407013, 44864 / 60000\n",
      "Loss - 0.16715273261070251, 51264 / 60000\n",
      "Loss - 0.28830769658088684, 57664 / 60000\n",
      "Accuracy - 88.27000000000001, loss - 0.3386530506952553\n",
      "Loss - 0.2520929276943207, 64 / 60000\n",
      "Loss - 0.27570006251335144, 6464 / 60000\n",
      "Loss - 0.27391794323921204, 12864 / 60000\n",
      "Loss - 0.18404346704483032, 19264 / 60000\n",
      "Loss - 0.10806954652070999, 25664 / 60000\n",
      "Loss - 0.17558717727661133, 32064 / 60000\n",
      "Loss - 0.33178597688674927, 38464 / 60000\n",
      "Loss - 0.33982256054878235, 44864 / 60000\n",
      "Loss - 0.23715773224830627, 51264 / 60000\n",
      "Loss - 0.27316316962242126, 57664 / 60000\n",
      "Accuracy - 88.53999999999999, loss - 0.32941415678164004\n",
      "Loss - 0.305931031703949, 64 / 60000\n",
      "Loss - 0.2082502692937851, 6464 / 60000\n",
      "Loss - 0.22051601111888885, 12864 / 60000\n",
      "Loss - 0.2991381585597992, 19264 / 60000\n",
      "Loss - 0.19071470201015472, 25664 / 60000\n",
      "Loss - 0.1875174641609192, 32064 / 60000\n",
      "Loss - 0.10507424175739288, 38464 / 60000\n",
      "Loss - 0.22424738109111786, 44864 / 60000\n",
      "Loss - 0.1593676507472992, 51264 / 60000\n",
      "Loss - 0.14114059507846832, 57664 / 60000\n",
      "Accuracy - 88.56, loss - 0.32865938786298604\n"
     ]
    }
   ],
   "source": [
    "epochs = 10\n",
    "for t in range(epochs):\n",
    "    train_loop(train_loader,model,optimizer,loss_fn)\n",
    "    test_loop(test_loader,model,loss_fn)"
   ]
  },
  {
   "cell_type": "code",
   "execution_count": 15,
   "metadata": {},
   "outputs": [],
   "source": [
    "torch.save(model.state_dict(),'model1.pth')"
   ]
  },
  {
   "cell_type": "code",
   "execution_count": null,
   "metadata": {},
   "outputs": [],
   "source": []
  }
 ],
 "metadata": {
  "kernelspec": {
   "display_name": "ds",
   "language": "python",
   "name": "python3"
  },
  "language_info": {
   "codemirror_mode": {
    "name": "ipython",
    "version": 3
   },
   "file_extension": ".py",
   "mimetype": "text/x-python",
   "name": "python",
   "nbconvert_exporter": "python",
   "pygments_lexer": "ipython3",
   "version": "3.11.9"
  }
 },
 "nbformat": 4,
 "nbformat_minor": 2
}
