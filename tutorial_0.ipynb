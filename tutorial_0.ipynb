{
 "cells": [
  {
   "cell_type": "code",
   "execution_count": 1,
   "metadata": {},
   "outputs": [],
   "source": [
    "import pandas as pd \n",
    "from warnings import filterwarnings\n",
    "filterwarnings('ignore')"
   ]
  },
  {
   "cell_type": "code",
   "execution_count": 2,
   "metadata": {},
   "outputs": [],
   "source": [
    "import torch\n",
    "from torch import nn\n",
    "from torch.utils.data import DataLoader\n",
    "from torchvision import datasets\n",
    "import torchvision.transforms as tranforms"
   ]
  },
  {
   "cell_type": "code",
   "execution_count": 3,
   "metadata": {},
   "outputs": [],
   "source": [
    "training_data = datasets.FashionMNIST(root='mnist',train=True,download=False,transform=tranforms.ToTensor())\n",
    "testing_data = datasets.FashionMNIST(root='mnist',train=False,download=False,transform=tranforms.ToTensor())"
   ]
  },
  {
   "cell_type": "code",
   "execution_count": 5,
   "metadata": {},
   "outputs": [],
   "source": [
    "batch_size = 64"
   ]
  },
  {
   "cell_type": "code",
   "execution_count": 6,
   "metadata": {},
   "outputs": [],
   "source": [
    "train_loader = DataLoader(training_data,batch_size=batch_size,shuffle=True)\n",
    "test_loader = DataLoader(testing_data,batch_size=batch_size,shuffle=True)"
   ]
  },
  {
   "cell_type": "code",
   "execution_count": 10,
   "metadata": {},
   "outputs": [
    {
     "name": "stdout",
     "output_type": "stream",
     "text": [
      "Using cuda device\n"
     ]
    }
   ],
   "source": [
    "device = (\n",
    "    \"cuda\"\n",
    "    if torch.cuda.is_available()\n",
    "    else \"mps\"\n",
    "    if torch.backends.mps.is_available()\n",
    "    else \"cpu\"\n",
    ")\n",
    "print(f\"Using {device} device\")"
   ]
  },
  {
   "cell_type": "code",
   "execution_count": 11,
   "metadata": {},
   "outputs": [],
   "source": [
    "class NN(nn.Module):\n",
    "    def __init__(self):\n",
    "        super().__init__()\n",
    "        self.flatten = nn.Flatten()\n",
    "        self.stack = nn.Sequential(nn.Linear(28*28,512),\n",
    "                                   nn.ReLU(),\n",
    "                                   nn.Linear(512,512),\n",
    "                                   nn.ReLU(),\n",
    "                                   nn.Linear(512,10))\n",
    "    def forward(self,x):\n",
    "        x = self.flatten(x)\n",
    "        logits = self.stack(x)\n",
    "        return logits"
   ]
  },
  {
   "cell_type": "code",
   "execution_count": 12,
   "metadata": {},
   "outputs": [],
   "source": [
    "model = NN().to(device)"
   ]
  },
  {
   "cell_type": "code",
   "execution_count": 13,
   "metadata": {},
   "outputs": [],
   "source": [
    "loss = nn.CrossEntropyLoss()\n",
    "optimizer = torch.optim.Adam(model.parameters(),lr=0.001)"
   ]
  },
  {
   "cell_type": "code",
   "execution_count": 14,
   "metadata": {},
   "outputs": [],
   "source": [
    "def train_model(dataloader,model,loss,optimizer):\n",
    "    size = len(dataloader.dataset)\n",
    "    model.train()\n",
    "    for batch ,(X,y) in enumerate(dataloader):\n",
    "        X,y = X.to(device),y.to(device)\n",
    "        pred = model(X)\n",
    "        model_loss = loss(pred,y)\n",
    "        model_loss.backward()\n",
    "        optimizer.step()\n",
    "        optimizer.zero_grad()\n",
    "\n",
    "        if batch % 100 == 0:\n",
    "            loss1, current = model_loss.item(), (batch + 1) * len(X)\n",
    "            print(f\"loss: {loss1:>7f}  [{current:>5d}/{size:>5d}]\")"
   ]
  },
  {
   "cell_type": "code",
   "execution_count": 15,
   "metadata": {},
   "outputs": [],
   "source": [
    "def test_model(dataloader,model,loss):\n",
    "    size = len(dataloader.dataset)\n",
    "    num_batches = len(dataloader)\n",
    "    model.eval()\n",
    "    test_loss,correct = 0,0\n",
    "    with torch.no_grad():\n",
    "        for X,y in dataloader:\n",
    "            X,y = X.to(device),y.to(device)\n",
    "            pred = model(X)\n",
    "            test_loss += loss(pred,y).item()\n",
    "            correct += (pred.argmax(1)==y).type(torch.float).sum().item()\n",
    "    test_loss /= num_batches\n",
    "    correct /= size\n",
    "    return test_loss,correct"
   ]
  },
  {
   "cell_type": "code",
   "execution_count": 16,
   "metadata": {},
   "outputs": [
    {
     "name": "stdout",
     "output_type": "stream",
     "text": [
      "Epoch 1\n",
      "-------------------------------\n",
      "loss: 2.304830  [   64/60000]\n",
      "loss: 0.808105  [ 6464/60000]\n",
      "loss: 0.518686  [12864/60000]\n",
      "loss: 0.591237  [19264/60000]\n",
      "loss: 0.408907  [25664/60000]\n",
      "loss: 0.314740  [32064/60000]\n",
      "loss: 0.354824  [38464/60000]\n",
      "loss: 0.362383  [44864/60000]\n",
      "loss: 0.491875  [51264/60000]\n",
      "loss: 0.332160  [57664/60000]\n",
      "The evaluation loss 0.42653718116177114\n",
      "The accuracy is 0.84\n",
      "\n",
      "Epoch 2\n",
      "-------------------------------\n",
      "loss: 0.236421  [   64/60000]\n",
      "loss: 0.445067  [ 6464/60000]\n",
      "loss: 0.341554  [12864/60000]\n",
      "loss: 0.433017  [19264/60000]\n",
      "loss: 0.449673  [25664/60000]\n",
      "loss: 0.418769  [32064/60000]\n",
      "loss: 0.260712  [38464/60000]\n",
      "loss: 0.608624  [44864/60000]\n",
      "loss: 0.510515  [51264/60000]\n",
      "loss: 0.331816  [57664/60000]\n",
      "The evaluation loss 0.3740062281774108\n",
      "The accuracy is 0.87\n",
      "\n",
      "Epoch 3\n",
      "-------------------------------\n",
      "loss: 0.262375  [   64/60000]\n",
      "loss: 0.449440  [ 6464/60000]\n",
      "loss: 0.453927  [12864/60000]\n",
      "loss: 0.411219  [19264/60000]\n",
      "loss: 0.293225  [25664/60000]\n",
      "loss: 0.428209  [32064/60000]\n",
      "loss: 0.213029  [38464/60000]\n",
      "loss: 0.336064  [44864/60000]\n",
      "loss: 0.182660  [51264/60000]\n",
      "loss: 0.219884  [57664/60000]\n",
      "The evaluation loss 0.3670781431304421\n",
      "The accuracy is 0.86\n",
      "\n",
      "Epoch 4\n",
      "-------------------------------\n",
      "loss: 0.365489  [   64/60000]\n",
      "loss: 0.386518  [ 6464/60000]\n",
      "loss: 0.299663  [12864/60000]\n",
      "loss: 0.421487  [19264/60000]\n",
      "loss: 0.204186  [25664/60000]\n",
      "loss: 0.357274  [32064/60000]\n",
      "loss: 0.234481  [38464/60000]\n",
      "loss: 0.180852  [44864/60000]\n",
      "loss: 0.293507  [51264/60000]\n",
      "loss: 0.217037  [57664/60000]\n",
      "The evaluation loss 0.35973859473968006\n",
      "The accuracy is 0.87\n",
      "\n",
      "Epoch 5\n",
      "-------------------------------\n",
      "loss: 0.405768  [   64/60000]\n",
      "loss: 0.169810  [ 6464/60000]\n",
      "loss: 0.344084  [12864/60000]\n",
      "loss: 0.325445  [19264/60000]\n",
      "loss: 0.281230  [25664/60000]\n",
      "loss: 0.176481  [32064/60000]\n",
      "loss: 0.249723  [38464/60000]\n",
      "loss: 0.260148  [44864/60000]\n",
      "loss: 0.159808  [51264/60000]\n",
      "loss: 0.412535  [57664/60000]\n",
      "The evaluation loss 0.3423082070650568\n",
      "The accuracy is 0.88\n",
      "\n",
      "Epoch 6\n",
      "-------------------------------\n",
      "loss: 0.175019  [   64/60000]\n",
      "loss: 0.167631  [ 6464/60000]\n",
      "loss: 0.310144  [12864/60000]\n",
      "loss: 0.218920  [19264/60000]\n",
      "loss: 0.186515  [25664/60000]\n",
      "loss: 0.218542  [32064/60000]\n",
      "loss: 0.316211  [38464/60000]\n",
      "loss: 0.351753  [44864/60000]\n",
      "loss: 0.178128  [51264/60000]\n",
      "loss: 0.213582  [57664/60000]\n",
      "The evaluation loss 0.34088017971842155\n",
      "The accuracy is 0.88\n",
      "\n",
      "Epoch 7\n",
      "-------------------------------\n",
      "loss: 0.370894  [   64/60000]\n",
      "loss: 0.249138  [ 6464/60000]\n",
      "loss: 0.309243  [12864/60000]\n",
      "loss: 0.332952  [19264/60000]\n",
      "loss: 0.168950  [25664/60000]\n",
      "loss: 0.224176  [32064/60000]\n",
      "loss: 0.300633  [38464/60000]\n",
      "loss: 0.114640  [44864/60000]\n",
      "loss: 0.414171  [51264/60000]\n",
      "loss: 0.162308  [57664/60000]\n",
      "The evaluation loss 0.3409581245130794\n",
      "The accuracy is 0.88\n",
      "\n",
      "Epoch 8\n",
      "-------------------------------\n",
      "loss: 0.298294  [   64/60000]\n",
      "loss: 0.112006  [ 6464/60000]\n",
      "loss: 0.325063  [12864/60000]\n",
      "loss: 0.177204  [19264/60000]\n",
      "loss: 0.268756  [25664/60000]\n",
      "loss: 0.180423  [32064/60000]\n",
      "loss: 0.245576  [38464/60000]\n",
      "loss: 0.265715  [44864/60000]\n",
      "loss: 0.210684  [51264/60000]\n",
      "loss: 0.374828  [57664/60000]\n",
      "The evaluation loss 0.3338818794982448\n",
      "The accuracy is 0.88\n",
      "\n",
      "Epoch 9\n",
      "-------------------------------\n",
      "loss: 0.281226  [   64/60000]\n",
      "loss: 0.317857  [ 6464/60000]\n",
      "loss: 0.240199  [12864/60000]\n",
      "loss: 0.210354  [19264/60000]\n",
      "loss: 0.207700  [25664/60000]\n",
      "loss: 0.101442  [32064/60000]\n",
      "loss: 0.222946  [38464/60000]\n",
      "loss: 0.271529  [44864/60000]\n",
      "loss: 0.133416  [51264/60000]\n",
      "loss: 0.066763  [57664/60000]\n",
      "The evaluation loss 0.3215687140158028\n",
      "The accuracy is 0.89\n",
      "\n",
      "Epoch 10\n",
      "-------------------------------\n",
      "loss: 0.208308  [   64/60000]\n",
      "loss: 0.144229  [ 6464/60000]\n",
      "loss: 0.243233  [12864/60000]\n",
      "loss: 0.299042  [19264/60000]\n",
      "loss: 0.192200  [25664/60000]\n",
      "loss: 0.222827  [32064/60000]\n",
      "loss: 0.145785  [38464/60000]\n",
      "loss: 0.316689  [44864/60000]\n",
      "loss: 0.166659  [51264/60000]\n",
      "loss: 0.187436  [57664/60000]\n",
      "The evaluation loss 0.33917344029352164\n",
      "The accuracy is 0.88\n",
      "\n"
     ]
    }
   ],
   "source": [
    "epochs = 10\n",
    "for i in range(epochs):\n",
    "    print(f\"Epoch {i+1}\\n-------------------------------\")\n",
    "    train_model(train_loader, model, loss, optimizer)\n",
    "    eval_loss,accuracy = test_model(test_loader, model, loss)\n",
    "    print(f\"The evaluation loss {eval_loss}\")\n",
    "    print(f\"The accuracy is {round(accuracy,2)}\\n\")"
   ]
  },
  {
   "cell_type": "code",
   "execution_count": 17,
   "metadata": {},
   "outputs": [],
   "source": [
    "torch.save(model.state_dict(),'model1.pth')"
   ]
  },
  {
   "cell_type": "code",
   "execution_count": 18,
   "metadata": {},
   "outputs": [],
   "source": [
    "classes = training_data.classes"
   ]
  },
  {
   "cell_type": "code",
   "execution_count": 19,
   "metadata": {},
   "outputs": [
    {
     "data": {
      "text/plain": [
       "NN(\n",
       "  (flatten): Flatten(start_dim=1, end_dim=-1)\n",
       "  (stack): Sequential(\n",
       "    (0): Linear(in_features=784, out_features=512, bias=True)\n",
       "    (1): ReLU()\n",
       "    (2): Linear(in_features=512, out_features=512, bias=True)\n",
       "    (3): ReLU()\n",
       "    (4): Linear(in_features=512, out_features=10, bias=True)\n",
       "  )\n",
       ")"
      ]
     },
     "execution_count": 19,
     "metadata": {},
     "output_type": "execute_result"
    }
   ],
   "source": [
    "model.eval()"
   ]
  },
  {
   "cell_type": "code",
   "execution_count": 29,
   "metadata": {},
   "outputs": [
    {
     "name": "stdout",
     "output_type": "stream",
     "text": [
      "The predicted class is Ankle boot and the actual class is Ankle boot.\n"
     ]
    }
   ],
   "source": [
    "x,y = testing_data[0][0],testing_data[0][1]\n",
    "with torch.no_grad():\n",
    "    x = x.to(device)\n",
    "    pred = model(x)\n",
    "    output = classes[pred.argmax()]\n",
    "    print(f\"The predicted class is {output} and the actual class is {classes[y]}.\")"
   ]
  },
  {
   "cell_type": "code",
   "execution_count": null,
   "metadata": {},
   "outputs": [],
   "source": []
  },
  {
   "cell_type": "code",
   "execution_count": null,
   "metadata": {},
   "outputs": [],
   "source": []
  },
  {
   "cell_type": "code",
   "execution_count": null,
   "metadata": {},
   "outputs": [],
   "source": []
  }
 ],
 "metadata": {
  "kernelspec": {
   "display_name": "ds",
   "language": "python",
   "name": "python3"
  },
  "language_info": {
   "codemirror_mode": {
    "name": "ipython",
    "version": 3
   },
   "file_extension": ".py",
   "mimetype": "text/x-python",
   "name": "python",
   "nbconvert_exporter": "python",
   "pygments_lexer": "ipython3",
   "version": "3.11.9"
  }
 },
 "nbformat": 4,
 "nbformat_minor": 2
}
